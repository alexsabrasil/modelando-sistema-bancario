{
  "nbformat": 4,
  "nbformat_minor": 0,
  "metadata": {
    "colab": {
      "provenance": [],
      "authorship_tag": "ABX9TyPx31XI7TNm9uU+j6fdzrSO",
      "include_colab_link": true
    },
    "kernelspec": {
      "name": "python3",
      "display_name": "Python 3"
    },
    "language_info": {
      "name": "python"
    }
  },
  "cells": [
    {
      "cell_type": "markdown",
      "metadata": {
        "id": "view-in-github",
        "colab_type": "text"
      },
      "source": [
        "<a href=\"https://colab.research.google.com/github/alexsabrasil/modelando-sistema-bancario/blob/main/Exerc%C3%ADcio_Modelando_sistema.ipynb\" target=\"_parent\"><img src=\"https://colab.research.google.com/assets/colab-badge.svg\" alt=\"Open In Colab\"/></a>"
      ]
    },
    {
      "cell_type": "markdown",
      "source": [
        "1. O banco Banco Delas é um banco moderno e eficiente, com\n",
        "vantagens exclusivas para clientes mulheres.\n",
        "Modele um sistema orientado a objetos para representar contas\n",
        "correntes do Banco Delas seguindo os requisitos abaixo.\n",
        "\n",
        "● Cada conta corrente pode ter um ou mais clientes como\n",
        "titular.\n",
        "\n",
        "● O banco controla apenas o nome, o telefone e a renda\n",
        "mensal de cada cliente.\n",
        "\n",
        "● A conta corrente apresenta um saldo e uma lista de\n",
        "operações de saques e depósitos.\n",
        "\n",
        "● Quando a cliente fizer um saque, diminuiremos o saldo da\n",
        "conta corrente. Quando ela fizer um depósito,\n",
        "aumentaremos o saldo.\n",
        "\n",
        "● Clientes mulheres possuem em suas contas um cheque\n",
        "especial de valor igual à sua renda mensal, ou seja, elas\n",
        "podem sacar valores que deixam a sua conta com valor\n",
        "negativo até renda_mensal.\n",
        "\n",
        "● Clientes homens por enquanto não têm direito a cheque\n",
        "especial.\n",
        "\n",
        "Para modelar seu sistema, utilize obrigatoriamente os conceitos\n",
        "\"classe\", \"herança\", \"propriedades\", \"encapsulamento\" e \"classe\n",
        "abstrata\"."
      ],
      "metadata": {
        "id": "5UJT3k2C3W4t"
      }
    },
    {
      "cell_type": "code",
      "source": [
        "from abc import ABC, abstractmethod\n",
        "\n",
        "class Cliente(ABC):\n",
        "    def __init__(self, nome, telefone, renda_mensal):\n",
        "        self.nome = nome\n",
        "        self.telefone = telefone\n",
        "        self.renda_mensal = renda_mensal\n",
        "\n",
        "    @abstractmethod\n",
        "    def get_cheque_especial(self):\n",
        "        pass\n",
        "\n",
        "class ClienteFeminino(Cliente):\n",
        "    def get_cheque_especial(self):\n",
        "        return self.renda_mensal\n",
        "\n",
        "class ClienteMasculino(Cliente):\n",
        "    def get_cheque_especial(self):\n",
        "        return 0\n",
        "\n",
        "class ContaCorrente:\n",
        "    def __init__(self):\n",
        "        self.clientes = []\n",
        "        self.saldo = 0.0\n",
        "        self.operacoes = []\n",
        "\n",
        "    def adicionar_cliente(self, cliente):\n",
        "        self.clientes.append(cliente)\n",
        "\n",
        "    def calcular_limite(self):\n",
        "        return sum(cliente.get_cheque_especial() for cliente in self.clientes)\n",
        "\n",
        "    def sacar(self, valor):\n",
        "        limite = self.calcular_limite()\n",
        "        if self.saldo - valor >= -limite:\n",
        "            self.saldo -= valor\n",
        "            self.operacoes.append(f\"Saque: -R${valor:.2f}\")\n",
        "        else:\n",
        "            raise ValueError(\"Saldo insuficiente, mesmo considerando o cheque especial.\")\n",
        "\n",
        "    def depositar(self, valor):\n",
        "        self.saldo += valor\n",
        "        self.operacoes.append(f\"Depósito: +R${valor:.2f}\")\n",
        "\n",
        "    def extrato(self):\n",
        "        print(\"Extrato da conta:\")\n",
        "        for operacao in self.operacoes:\n",
        "            print(operacao)\n",
        "        print(f\"Saldo atual: R${self.saldo:.2f}\")\n",
        "        print(f\"Limite disponível (incluindo cheque especial): R${self.saldo + self.calcular_limite():.2f}\")\n",
        "\n",
        "# Exemplo de uso:\n",
        "cliente1 = ClienteFeminino(nome=\"Maria\", telefone=\"123456789\", renda_mensal=2000.0)\n",
        "cliente2 = ClienteMasculino(nome=\"João\", telefone=\"987654321\", renda_mensal=3000.0)\n",
        "\n",
        "conta = ContaCorrente()\n",
        "conta.adicionar_cliente(cliente1)\n",
        "conta.adicionar_cliente(cliente2)\n",
        "\n",
        "conta.depositar(2500)  # Não deve funcionar devido ao cheque especial de João\n",
        "conta.sacar(100)\n",
        "conta.sacar(2500)  # Isso deve funcionar devido ao cheque especial de Maria\n",
        "\n",
        "conta.extrato()\n"
      ],
      "metadata": {
        "colab": {
          "base_uri": "https://localhost:8080/"
        },
        "id": "tAgAJjAH7EFX",
        "outputId": "ce91b225-b72f-49b2-e753-6972e1605058"
      },
      "execution_count": 5,
      "outputs": [
        {
          "output_type": "stream",
          "name": "stdout",
          "text": [
            "Extrato da conta:\n",
            "Depósito: +R$2500.00\n",
            "Saque: -R$100.00\n",
            "Saque: -R$2500.00\n",
            "Saldo atual: R$-100.00\n",
            "Limite disponível (incluindo cheque especial): R$1900.00\n"
          ]
        }
      ]
    }
  ]
}